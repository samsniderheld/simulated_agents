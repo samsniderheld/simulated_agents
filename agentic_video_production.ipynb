{
 "cells": [
  {
   "cell_type": "markdown",
   "metadata": {
    "id": "w56BMV2q0vNs"
   },
   "source": [
    "# **Install**"
   ]
  },
  {
   "cell_type": "code",
   "execution_count": null,
   "metadata": {
    "id": "W8IknqTJJpS1"
   },
   "outputs": [],
   "source": [
    "!git clone https://github.com/samsniderheld/simulated_agents.git"
   ]
  },
  {
   "cell_type": "code",
   "execution_count": null,
   "metadata": {
    "id": "CPa3yXwPLrQb"
   },
   "outputs": [],
   "source": [
    "cd simulated_agents"
   ]
  },
  {
   "cell_type": "code",
   "execution_count": null,
   "metadata": {
    "id": "qyC31wqSJ2I0"
   },
   "outputs": [],
   "source": [
    "!pip install -r requirements.txt"
   ]
  },
  {
   "cell_type": "markdown",
   "metadata": {
    "id": "cAOKEm5RQecj"
   },
   "source": [
    "!pip install torchao --extra-index-url https://download.pytorch.org/whl/cu121 # full options are cpu/cu118/cu121/cu124\n",
    "!pip install git+https://github.com/xhinker/sd_embed.git@main"
   ]
  },
  {
   "cell_type": "markdown",
   "metadata": {},
   "source": [
    "# **API Keys**"
   ]
  },
  {
   "cell_type": "code",
   "execution_count": null,
   "metadata": {},
   "outputs": [],
   "source": [
    "import os\n",
    "from huggingface_hub import login\n",
    "os.environ[\"OPENAI_API_KEY\"] = \"\"\n",
    "os.environ[\"ELEVENLABS_API_KEY\"] = \"\"\n",
    "os.environ[\"RUNWAYML_API_SECRET\"] = \"\"\n",
    "login(token=\"\") #hugging face token"
   ]
  },
  {
   "cell_type": "markdown",
   "metadata": {
    "id": "5gNzOHOKQM8b",
    "jp-MarkdownHeadingCollapsed": true
   },
   "source": [
    "# **Gradio Interface**"
   ]
  },
  {
   "cell_type": "code",
   "execution_count": 1,
   "metadata": {
    "id": "rZM5TVyC4IHV"
   },
   "outputs": [
    {
     "name": "stdout",
     "output_type": "stream",
     "text": [
      "/teamspace/studios/this_studio/simulated_agents\n"
     ]
    },
    {
     "name": "stderr",
     "output_type": "stream",
     "text": [
      "/home/zeus/miniconda3/envs/cloudspace/lib/python3.10/site-packages/IPython/core/magics/osm.py:417: UserWarning: using dhist requires you to install the `pickleshare` library.\n",
      "  self.shell.db['dhist'] = compress_dhist(dhist)[-100:]\n"
     ]
    }
   ],
   "source": [
    "cd simulated_agents/"
   ]
  },
  {
   "cell_type": "code",
   "execution_count": null,
   "metadata": {
    "id": "dqzyRRmBQP0_"
   },
   "outputs": [
    {
     "name": "stdout",
     "output_type": "stream",
     "text": [
      "WARNING[XFORMERS]: xFormers can't load C++/CUDA extensions. xFormers was built for:\n",
      "    PyTorch 2.1.2+cu121 with CUDA 1201 (you have 2.5.1+cu121)\n",
      "    Python  3.10.13 (you have 3.10.10)\n",
      "  Please reinstall xformers (see https://github.com/facebookresearch/xformers#installing-xformers)\n",
      "  Memory-efficient attention, SwiGLU, sparse and more won't be available.\n",
      "  Set XFORMERS_MORE_DETAILS=1 for more details\n",
      "/home/zeus/miniconda3/envs/cloudspace/lib/python3.10/site-packages/xformers/triton/softmax.py:30: FutureWarning: `torch.cuda.amp.custom_fwd(args...)` is deprecated. Please use `torch.amp.custom_fwd(args..., device_type='cuda')` instead.\n",
      "  @custom_fwd(cast_inputs=torch.float16 if _triton_softmax_fp16_enabled else None)\n",
      "/home/zeus/miniconda3/envs/cloudspace/lib/python3.10/site-packages/xformers/triton/softmax.py:87: FutureWarning: `torch.cuda.amp.custom_bwd(args...)` is deprecated. Please use `torch.amp.custom_bwd(args..., device_type='cuda')` instead.\n",
      "  def backward(\n",
      "/home/zeus/miniconda3/envs/cloudspace/lib/python3.10/site-packages/xformers/ops/swiglu_op.py:107: FutureWarning: `torch.cuda.amp.custom_fwd(args...)` is deprecated. Please use `torch.amp.custom_fwd(args..., device_type='cuda')` instead.\n",
      "  def forward(cls, ctx, x, w1, b1, w2, b2, w3, b3):\n",
      "/home/zeus/miniconda3/envs/cloudspace/lib/python3.10/site-packages/xformers/ops/swiglu_op.py:128: FutureWarning: `torch.cuda.amp.custom_bwd(args...)` is deprecated. Please use `torch.amp.custom_bwd(args..., device_type='cuda')` instead.\n",
      "  def backward(cls, ctx, dx5):\n",
      "loading agents\n",
      "loading content generation capabilities\n",
      "Loading pipeline components...:  14%|█▊           | 1/7 [00:00<00:01,  4.53it/s]You set `add_prefix_space`. The tokenizer needs to be converted from the slow tokenizers\n",
      "Loading pipeline components...:  29%|███▋         | 2/7 [00:00<00:00,  5.00it/s]\n",
      "Loading checkpoint shards:   0%|                          | 0/2 [00:00<?, ?it/s]\u001b[A\n",
      "Loading checkpoint shards:  50%|█████████         | 1/2 [00:00<00:00,  5.26it/s]\u001b[A\n",
      "Loading checkpoint shards: 100%|██████████████████| 2/2 [00:00<00:00,  5.39it/s]\u001b[A\n",
      "Loading pipeline components...: 100%|█████████████| 7/7 [00:01<00:00,  4.00it/s]\n",
      "Fetching 3 files: 100%|████████████████████████| 3/3 [00:00<00:00, 68385.39it/s]\n",
      "loading complete\n",
      "* Running on local URL:  http://127.0.0.1:9000\n",
      "\n",
      "To create a public link, set `share=True` in `launch()`.\n",
      "simulating scene\n",
      "shot 0 action: Taylor and Playmo are on the spaceship's observation deck, looking at a view of a nebula through a large window, surrounded by colorful cosmic clouds.\n",
      "shot 0 prompt: Pixar-style Scene, an alien child with teal fur and large emerald eyes stands in a spaceship's observation deck, gazing out a large window at a vibrant nebula surrounded by colorful cosmic clouds. Next to them is a quirky humanoid robot with a sleek yellow body and expressive hands gesturing animatedly.\n",
      "shot 0 vo: Wow, Playmo, look at all those clouds! I bet that's where new stars are born!\n",
      "shot 1 action: A holographic display of a nebula appears in the center of the room, showing gases coming together to form a protostar, with Playmo excitedly pointing at it.\n",
      "shot 1 prompt: Pixar-style Scene, a holographic display in a spaceship's observation deck shows swirling gases forming a bright protostar in a colorful nebula. The alien child watches intrigued while the animated robot points excitedly at the display.\n",
      "shot 1 vo: This is incredible, Taylor! Seeing it happen right in front of us—the beginning of a star's life!\n",
      "shot 2 action: The spaceship computer shows a time-lapse of the protostar growing into a full-fledged star, illuminating the room with warm light.\n",
      "shot 2 prompt: Pixar-style Scene, inside the spaceship, a time-lapse on the screen shows a protostar growing into a radiant star, casting a warm glow across the room with the alien child and robot watching in awe.\n",
      "shot 2 vo: Look at it shine, Playmo! From gas and dust to a brilliant star lighting up the universe!\n",
      "shot 3 action: Taylor and Playmo discuss how stars go on to form solar systems, with Playmo mimicking planets orbiting around the newly formed star.\n",
      "shot 3 prompt: Pixar-style Scene, an alien child with emerald eyes and a colorful jacket discusses star formation with an animated robot who is mimicking planets orbiting around a newly formed star displayed holographically.\n",
      "shot 3 vo: Just imagine, Playmo, this star could have planets of its own one day—a whole new solar system waiting to be explored!\n",
      "shot 4 action: Playmo enthusiastically declares his dream of building a mini solar system model, causing Taylor to chuckle.\n",
      "shot 4 prompt: Pixar-style Scene, a quirky robot with a sleek yellow body animatedly declares his dream of creating a mini solar system model in front of an alien child who chuckles warmly.\n",
      "shot 4 vo: I want to build a mini solar system with 3D-printed planets! Imagine that, Taylor!\n",
      "shot 5 action: Taylor smiles, offering to help Playmo with the model, as they plan their next adventure through the universe.\n",
      "shot 5 prompt: Pixar-style Scene, an alien child with a gentle smile offers to help a playful yellow robot build a mini solar system model, as they look out the spaceship window into the vast universe, ready for new adventures.\n",
      "shot 5 vo: Let's do it together, Playmo! Who knows what amazing adventures our little solar system will have?\n",
      "\n",
      "Overall, the script is engaging and stays true to both Taylor and Playmo's characters, capturing their curiosity and playful nature. However, there are a few areas where it could be enhanced:\n",
      "\n",
      "1. **Shot 0**: While the visuals are vivid, consider adding a line for Taylor that emphasizes their curiosity more, perhaps pondering the origins of the nebula clouds with a specific question. Taylor’s observational tone is key, so maybe something like “I wonder which of these clouds will become the brightest star one day?” could add depth.\n",
      "\n",
      "2. **Shot 1 and 2**: These shots do a great job illustrating the scientific processes. To make it more educational, Taylor could ask Playmo an intriguing question about the process, which the computer could answer, such as, \"Do all the gases have to gather for a star to start forming?\"\n",
      "\n",
      "3. **Shot 3**: While discussing solar systems, incorporate a moment where Taylor's imagination shines. Maybe Taylor could speculate, \"I bet a planet here would have rainbow storms and emerald oceans!\"\n",
      "\n",
      "4. **Shot 4**: Playmo’s excitement is contagious, yet adding a remark about why he’s specifically interested in the solar system model can strengthen his character’s motivation—perhaps saying, \"Building one means we can invent our own adventures and stories!\"\n",
      "\n",
      "5. **Shot 5**: Taylor's response is supportive, but it can be more enthusiastic about their collaborative spirit. Consider ending with a line reflecting on the power of their friendship and mutual curiosity: \"Together, our imagination can travel farther than any spaceship!\"\n",
      "\n",
      "These adjustments will deepen the characters' personalities while maintaining the educational and adventurous tone of the scene.\n",
      "Token indices sequence length is longer than the specified maximum sequence length for this model (245 > 77). Running this sequence through the model will result in indexing errors\n",
      "100%|███████████████████████████████████████████| 40/40 [00:12<00:00,  3.25it/s]\n",
      "100%|███████████████████████████████████████████| 40/40 [00:12<00:00,  3.26it/s]\n",
      "100%|███████████████████████████████████████████| 40/40 [00:12<00:00,  3.33it/s]\n",
      "100%|███████████████████████████████████████████| 40/40 [00:12<00:00,  3.32it/s]\n",
      "100%|███████████████████████████████████████████| 40/40 [00:12<00:00,  3.33it/s]\n",
      "100%|███████████████████████████████████████████| 40/40 [00:11<00:00,  3.36it/s]\n",
      "100%|███████████████████████████████████████████| 40/40 [00:11<00:00,  3.38it/s]\n",
      "100%|███████████████████████████████████████████| 40/40 [00:11<00:00,  3.42it/s]\n",
      "100%|███████████████████████████████████████████| 40/40 [00:11<00:00,  3.43it/s]\n",
      "100%|███████████████████████████████████████████| 40/40 [00:11<00:00,  3.43it/s]\n",
      "100%|███████████████████████████████████████████| 40/40 [00:11<00:00,  3.53it/s]\n",
      "100%|███████████████████████████████████████████| 40/40 [00:11<00:00,  3.43it/s]\n",
      "100%|███████████████████████████████████████████| 40/40 [00:11<00:00,  3.33it/s]\n",
      "100%|███████████████████████████████████████████| 40/40 [00:11<00:00,  3.52it/s]\n",
      "100%|███████████████████████████████████████████| 40/40 [00:11<00:00,  3.36it/s]\n"
     ]
    }
   ],
   "source": [
    "!python gradio_interface.py --iterations 1 --scenario_file_path \"config_files/scenario.yaml\" --narrative \"Taylor and Playmo learn about how stars are born.\""
   ]
  },
  {
   "cell_type": "markdown",
   "metadata": {
    "jp-MarkdownHeadingCollapsed": true
   },
   "source": [
    "# **Full flow**"
   ]
  },
  {
   "cell_type": "code",
   "execution_count": 1,
   "metadata": {},
   "outputs": [
    {
     "name": "stdout",
     "output_type": "stream",
     "text": [
      "/teamspace/studios/this_studio/simulated_agents\n"
     ]
    },
    {
     "name": "stderr",
     "output_type": "stream",
     "text": [
      "/home/zeus/miniconda3/envs/cloudspace/lib/python3.10/site-packages/IPython/core/magics/osm.py:417: UserWarning: using dhist requires you to install the `pickleshare` library.\n",
      "  self.shell.db['dhist'] = compress_dhist(dhist)[-100:]\n"
     ]
    }
   ],
   "source": [
    "cd simulated_agents/"
   ]
  },
  {
   "cell_type": "code",
   "execution_count": 3,
   "metadata": {},
   "outputs": [],
   "source": [
    "!rm -r out_audio\n",
    "!rm -r out_imgs\n",
    "!rm -r out_vids\n",
    "!rm -r final_vids"
   ]
  },
  {
   "cell_type": "code",
   "execution_count": 8,
   "metadata": {},
   "outputs": [
    {
     "name": "stdout",
     "output_type": "stream",
     "text": [
      "WARNING[XFORMERS]: xFormers can't load C++/CUDA extensions. xFormers was built for:\n",
      "    PyTorch 2.1.2+cu121 with CUDA 1201 (you have 2.5.1+cu121)\n",
      "    Python  3.10.13 (you have 3.10.10)\n",
      "  Please reinstall xformers (see https://github.com/facebookresearch/xformers#installing-xformers)\n",
      "  Memory-efficient attention, SwiGLU, sparse and more won't be available.\n",
      "  Set XFORMERS_MORE_DETAILS=1 for more details\n",
      "/home/zeus/miniconda3/envs/cloudspace/lib/python3.10/site-packages/xformers/triton/softmax.py:30: FutureWarning: `torch.cuda.amp.custom_fwd(args...)` is deprecated. Please use `torch.amp.custom_fwd(args..., device_type='cuda')` instead.\n",
      "  @custom_fwd(cast_inputs=torch.float16 if _triton_softmax_fp16_enabled else None)\n",
      "/home/zeus/miniconda3/envs/cloudspace/lib/python3.10/site-packages/xformers/triton/softmax.py:87: FutureWarning: `torch.cuda.amp.custom_bwd(args...)` is deprecated. Please use `torch.amp.custom_bwd(args..., device_type='cuda')` instead.\n",
      "  def backward(\n",
      "/home/zeus/miniconda3/envs/cloudspace/lib/python3.10/site-packages/xformers/ops/swiglu_op.py:107: FutureWarning: `torch.cuda.amp.custom_fwd(args...)` is deprecated. Please use `torch.amp.custom_fwd(args..., device_type='cuda')` instead.\n",
      "  def forward(cls, ctx, x, w1, b1, w2, b2, w3, b3):\n",
      "/home/zeus/miniconda3/envs/cloudspace/lib/python3.10/site-packages/xformers/ops/swiglu_op.py:128: FutureWarning: `torch.cuda.amp.custom_bwd(args...)` is deprecated. Please use `torch.amp.custom_bwd(args..., device_type='cuda')` instead.\n",
      "  def backward(cls, ctx, dx5):\n",
      "loading agents\n",
      "loading content generation capabilities\n",
      "Loading pipeline components...:  14%|█▊           | 1/7 [00:00<00:04,  1.45it/s]\n",
      "Loading checkpoint shards:   0%|                          | 0/2 [00:00<?, ?it/s]\u001b[A\n",
      "Loading checkpoint shards:  50%|█████████         | 1/2 [00:00<00:00,  6.00it/s]\u001b[A\n",
      "Loading checkpoint shards: 100%|██████████████████| 2/2 [00:00<00:00,  5.70it/s]\u001b[A\n",
      "Loading pipeline components...:  29%|███▋         | 2/7 [00:01<00:02,  1.92it/s]You set `add_prefix_space`. The tokenizer needs to be converted from the slow tokenizers\n",
      "Loading pipeline components...: 100%|█████████████| 7/7 [00:01<00:00,  4.43it/s]\n",
      "Fetching 3 files: 100%|█████████████████████████| 3/3 [00:00<00:00, 8377.44it/s]\n",
      "loading complete\n",
      "simulating scene\n",
      "shot 0 action: Taylor is sitting in their spaceship, surrounded by holographic images, studying an animated diagram of a blockchain, a series of interconnected blocks connected by lines.\n",
      "shot 0 prompt: Pixar-style Scene, A young alien child with teal iridescent skin sits in a colorful spaceship interior, surrounded by holographic screens. An animated diagram of a blockchain, with interconnected blocks and lines, floats in the air. The spaceship is cozy and filled with advanced alien technology.\n",
      "shot 0 vo: Taylor's eyes widened with curiosity as they observed the interconnected blocks. \"What a fascinating way to keep information safe!\" they mused.\n",
      "shot 1 action: The spaceship's computer, a soft, warm voice, explains that blockchain is like a digital ledger, storing information securely and transparently.\n",
      "shot 1 prompt: Pixar-style Scene, Inside a colorful spaceship, the space is filled with glowing holographic screens. A gentle, warm light emanates from one panel, representing the spaceship's friendly computer voice explaining blockchain.\n",
      "shot 1 vo: \"Blockchain is like a digital ledger that keeps information safe and transparent,\" the spaceship's computer explained gently.\n",
      "shot 2 action: Taylor uses their small backpack to pull out a futuristic tablet, attempting to simulate a blockchain transaction with excitement.\n",
      "shot 2 prompt: Pixar-style Scene, A young alien child with a bright, patchwork jacket pulls out a futuristic tablet from a small backpack. They are eager and excited, surrounded by holographic displays in the cozy spaceship.\n",
      "shot 2 vo: \"Let me try a blockchain transaction! This is thrilling!\" Taylor exclaimed, their fingers dancing over the tablet.\n",
      "shot 3 action: The computer displays how changes in one block affect the entire chain, turning red to indicate errors in the example simulation.\n",
      "shot 3 prompt: Pixar-style Scene, Inside a futuristic spaceship, holographic blocks linked in a chain are displayed, turning red to indicate errors. The warm glow from the spaceship's interface highlights the educational moment.\n",
      "shot 3 vo: \"See, Taylor, even a small change in one block can affect the whole chain,\" the computer pointed out as the simulation displayed red alerts.\n",
      "shot 4 action: Taylor watches with a mixture of awe and understanding, grasping the importance of secure and unchangeable data.\n",
      "shot 4 prompt: Pixar-style Scene, A young alien child with captivating green eyes shows awe and understanding, watching holographic screens displaying complex patterns and secure data inside the spaceship.\n",
      "shot 4 vo: \"Now I see. Blockchain technology ensures data is both secure and unchangeable,\" Taylor concluded thoughtfully.\n",
      "shot 5 action: Taylor and the computer share a moment of discovery, as Taylor promises to learn more about how blockchain technology can help other planets.\n",
      "shot 5 prompt: Pixar-style Scene, Inside a cozy spaceship with soft lights, a young alien child smiles at a warm glowing computer interface, promising to explore blockchain technology's potential to help others.\n",
      "shot 5 vo: \"Imagine the possibilities! I'll learn more about how this technology can benefit many planets,\" Taylor resolved with determination.\n",
      "\n",
      "The script is quite well written and ensures alignment with the character's curiosity and eagerness to learn. A few suggestions:\n",
      "\n",
      "1. Shot 0 VO: Inject more of Taylor's natural eagerness and excitement in the dialogue. Instead of stating \"What a fascinating way to keep information safe!\", Taylor could say,\"Wow, so that's how information is kept secure on the blockchain! How clever!\"\n",
      "\n",
      "2. Shot 2 Action: Instead of simply pulling out a tablet, it might be more engaging if Taylor first fumbles with it, showcasing the childlike enthusiasm. You could say, \"Taylor fumbles excitedly with their small backpack, pulling out a futuristic tablet, ready to simulate a blockchain transaction.\"\n",
      "\n",
      "3. Shot 3 Action: Consider adding Taylor's direct action that leads to the change in the blockchain, indicating the cause-effect between Taylor's action and the computer's comment. For instance, \"Taylor enters a wrong number and the computer shows how even that small change disrupts the entire chain.\"\n",
      "\n",
      "4. Shot 4 VO: Taylor's conclusion could be conveyed with even more awe in line with their child-like wonder yet highlighting their deep understanding. Taylor could say, \"Just like a perfect puzzle! Each piece keeps the other secure and all the pieces must fit just right, or nothing works.\"\n",
      "\n",
      "5. Shot 5 Action: Instead of simply promising, it might be more impactful if Taylor also shows their anticipation for the next learning journey. The action could be, \"Taylor looks out of the spaceship window into the stars, envisioning how blockchain technology can help other planets, radiating hope and determination.\"\n",
      "generating content\n",
      "generating image\n",
      "Token indices sequence length is longer than the specified maximum sequence length for this model (197 > 77). Running this sequence through the model will result in indexing errors\n",
      "100%|███████████████████████████████████████████| 40/40 [00:12<00:00,  3.29it/s]\n",
      "generating video\n",
      "polling\n",
      "generating VO\n",
      "{'video_found': True, 'audio_found': False, 'metadata': {'major_brand': 'isom', 'minor_version': '512', 'compatible_brands': 'isomiso2avc1mp41', 'encoder': 'Lavf58.29.100'}, 'inputs': [{'streams': [{'input_number': 0, 'stream_number': 0, 'stream_type': 'video', 'language': None, 'default': True, 'size': [1280, 768], 'bitrate': 2558, 'fps': 24.0, 'codec_name': 'h264', 'profile': '(High)', 'metadata': {'Metadata': '', 'handler_name': 'VideoHandler', 'vendor_id': '[0][0][0][0]'}}], 'input_number': 0}], 'duration': 10.54, 'bitrate': 2571, 'start': 0.0, 'default_video_input_number': 0, 'default_video_stream_number': 0, 'video_codec_name': 'h264', 'video_profile': '(High)', 'video_size': [1280, 768], 'video_bitrate': 2558, 'video_fps': 24.0, 'video_duration': 10.54, 'video_n_frames': 252}\n",
      "/home/zeus/miniconda3/envs/cloudspace/lib/python3.10/site-packages/imageio_ffmpeg/binaries/ffmpeg-linux-x86_64-v7.0.2 -i out_vids/static cam_img2video.mp4 -loglevel error -f image2pipe -vf scale=1280:768 -sws_flags bicubic -pix_fmt rgb24 -vcodec rawvideo -\n",
      "MoviePy - Building video combined_assets/scene_0000_variation_0000.mp4.\n",
      "MoviePy - Writing audio in scene_0000_variation_0000TEMP_MPY_wvf_snd.mp4\n",
      "MoviePy - Done.                                                                 \n",
      "MoviePy - Writing video combined_assets/scene_0000_variation_0000.mp4\n",
      "\n",
      "MoviePy - Done !                                                                \n",
      "MoviePy - video ready combined_assets/scene_0000_variation_0000.mp4\n",
      "generating image\n",
      "100%|███████████████████████████████████████████| 40/40 [00:12<00:00,  3.29it/s]\n",
      "generating video\n",
      "polling\n",
      "polling\n",
      "polling\n",
      "polling\n",
      "generating VO\n",
      "{'video_found': True, 'audio_found': False, 'metadata': {'major_brand': 'isom', 'minor_version': '512', 'compatible_brands': 'isomiso2avc1mp41', 'encoder': 'Lavf58.29.100'}, 'inputs': [{'streams': [{'input_number': 0, 'stream_number': 0, 'stream_type': 'video', 'language': None, 'default': True, 'size': [1280, 768], 'bitrate': 3938, 'fps': 24.0, 'codec_name': 'h264', 'profile': '(High)', 'metadata': {'Metadata': '', 'handler_name': 'VideoHandler', 'vendor_id': '[0][0][0][0]'}}], 'input_number': 0}], 'duration': 10.54, 'bitrate': 3951, 'start': 0.0, 'default_video_input_number': 0, 'default_video_stream_number': 0, 'video_codec_name': 'h264', 'video_profile': '(High)', 'video_size': [1280, 768], 'video_bitrate': 3938, 'video_fps': 24.0, 'video_duration': 10.54, 'video_n_frames': 252}\n",
      "/home/zeus/miniconda3/envs/cloudspace/lib/python3.10/site-packages/imageio_ffmpeg/binaries/ffmpeg-linux-x86_64-v7.0.2 -i out_vids/static cam_img2video.mp4 -loglevel error -f image2pipe -vf scale=1280:768 -sws_flags bicubic -pix_fmt rgb24 -vcodec rawvideo -\n",
      "MoviePy - Building video combined_assets/scene_0001_variation_0000.mp4.\n",
      "MoviePy - Writing audio in scene_0001_variation_0000TEMP_MPY_wvf_snd.mp4\n",
      "MoviePy - Done.                                                                 \n",
      "MoviePy - Writing video combined_assets/scene_0001_variation_0000.mp4\n",
      "\n",
      "MoviePy - Done !                                                                \n",
      "MoviePy - video ready combined_assets/scene_0001_variation_0000.mp4\n",
      "generating image\n",
      "100%|███████████████████████████████████████████| 40/40 [00:12<00:00,  3.33it/s]\n",
      "generating video\n",
      "polling\n",
      "polling\n",
      "generating VO\n",
      "{'video_found': True, 'audio_found': False, 'metadata': {'major_brand': 'isom', 'minor_version': '512', 'compatible_brands': 'isomiso2avc1mp41', 'encoder': 'Lavf58.29.100'}, 'inputs': [{'streams': [{'input_number': 0, 'stream_number': 0, 'stream_type': 'video', 'language': None, 'default': True, 'size': [1280, 768], 'bitrate': 3167, 'fps': 24.0, 'codec_name': 'h264', 'profile': '(High)', 'metadata': {'Metadata': '', 'handler_name': 'VideoHandler', 'vendor_id': '[0][0][0][0]'}}], 'input_number': 0}], 'duration': 10.54, 'bitrate': 3181, 'start': 0.0, 'default_video_input_number': 0, 'default_video_stream_number': 0, 'video_codec_name': 'h264', 'video_profile': '(High)', 'video_size': [1280, 768], 'video_bitrate': 3167, 'video_fps': 24.0, 'video_duration': 10.54, 'video_n_frames': 252}\n",
      "/home/zeus/miniconda3/envs/cloudspace/lib/python3.10/site-packages/imageio_ffmpeg/binaries/ffmpeg-linux-x86_64-v7.0.2 -i out_vids/Static cam_img2video.mp4 -loglevel error -f image2pipe -vf scale=1280:768 -sws_flags bicubic -pix_fmt rgb24 -vcodec rawvideo -\n",
      "MoviePy - Building video combined_assets/scene_0002_variation_0000.mp4.\n",
      "MoviePy - Writing audio in scene_0002_variation_0000TEMP_MPY_wvf_snd.mp4\n",
      "MoviePy - Done.                                                                 \n",
      "MoviePy - Writing video combined_assets/scene_0002_variation_0000.mp4\n",
      "\n",
      "MoviePy - Done !                                                                \n",
      "MoviePy - video ready combined_assets/scene_0002_variation_0000.mp4\n",
      "generating image\n",
      "100%|███████████████████████████████████████████| 40/40 [00:11<00:00,  3.35it/s]\n",
      "generating video\n",
      "polling\n",
      "polling\n",
      "polling\n",
      "generating VO\n",
      "{'video_found': True, 'audio_found': False, 'metadata': {'major_brand': 'isom', 'minor_version': '512', 'compatible_brands': 'isomiso2avc1mp41', 'encoder': 'Lavf58.29.100'}, 'inputs': [{'streams': [{'input_number': 0, 'stream_number': 0, 'stream_type': 'video', 'language': None, 'default': True, 'size': [1280, 768], 'bitrate': 2513, 'fps': 24.0, 'codec_name': 'h264', 'profile': '(High)', 'metadata': {'Metadata': '', 'handler_name': 'VideoHandler', 'vendor_id': '[0][0][0][0]'}}], 'input_number': 0}], 'duration': 10.54, 'bitrate': 2527, 'start': 0.0, 'default_video_input_number': 0, 'default_video_stream_number': 0, 'video_codec_name': 'h264', 'video_profile': '(High)', 'video_size': [1280, 768], 'video_bitrate': 2513, 'video_fps': 24.0, 'video_duration': 10.54, 'video_n_frames': 252}\n",
      "/home/zeus/miniconda3/envs/cloudspace/lib/python3.10/site-packages/imageio_ffmpeg/binaries/ffmpeg-linux-x86_64-v7.0.2 -i out_vids/Static cam_img2video.mp4 -loglevel error -f image2pipe -vf scale=1280:768 -sws_flags bicubic -pix_fmt rgb24 -vcodec rawvideo -\n",
      "MoviePy - Building video combined_assets/scene_0003_variation_0000.mp4.\n",
      "MoviePy - Writing audio in scene_0003_variation_0000TEMP_MPY_wvf_snd.mp4\n",
      "MoviePy - Done.                                                                 \n",
      "MoviePy - Writing video combined_assets/scene_0003_variation_0000.mp4\n",
      "\n",
      "MoviePy - Done !                                                                \n",
      "MoviePy - video ready combined_assets/scene_0003_variation_0000.mp4\n",
      "generating image\n",
      "100%|███████████████████████████████████████████| 40/40 [00:11<00:00,  3.34it/s]\n",
      "generating video\n",
      "polling\n",
      "polling\n",
      "polling\n",
      "polling\n",
      "polling\n",
      "polling\n",
      "polling\n",
      "polling\n",
      "generating VO\n",
      "{'video_found': True, 'audio_found': False, 'metadata': {'major_brand': 'isom', 'minor_version': '512', 'compatible_brands': 'isomiso2avc1mp41', 'encoder': 'Lavf58.29.100'}, 'inputs': [{'streams': [{'input_number': 0, 'stream_number': 0, 'stream_type': 'video', 'language': None, 'default': True, 'size': [1280, 768], 'bitrate': 3176, 'fps': 24.0, 'codec_name': 'h264', 'profile': '(High)', 'metadata': {'Metadata': '', 'handler_name': 'VideoHandler', 'vendor_id': '[0][0][0][0]'}}], 'input_number': 0}], 'duration': 10.54, 'bitrate': 3190, 'start': 0.0, 'default_video_input_number': 0, 'default_video_stream_number': 0, 'video_codec_name': 'h264', 'video_profile': '(High)', 'video_size': [1280, 768], 'video_bitrate': 3176, 'video_fps': 24.0, 'video_duration': 10.54, 'video_n_frames': 252}\n",
      "/home/zeus/miniconda3/envs/cloudspace/lib/python3.10/site-packages/imageio_ffmpeg/binaries/ffmpeg-linux-x86_64-v7.0.2 -i out_vids/Static cam_img2video.mp4 -loglevel error -f image2pipe -vf scale=1280:768 -sws_flags bicubic -pix_fmt rgb24 -vcodec rawvideo -\n",
      "MoviePy - Building video combined_assets/scene_0004_variation_0000.mp4.\n",
      "MoviePy - Writing audio in scene_0004_variation_0000TEMP_MPY_wvf_snd.mp4\n",
      "MoviePy - Done.                                                                 \n",
      "MoviePy - Writing video combined_assets/scene_0004_variation_0000.mp4\n",
      "\n",
      "MoviePy - Done !                                                                \n",
      "MoviePy - video ready combined_assets/scene_0004_variation_0000.mp4\n",
      "generating image\n",
      "100%|███████████████████████████████████████████| 40/40 [00:12<00:00,  3.32it/s]\n",
      "generating video\n",
      "polling\n",
      "polling\n",
      "polling\n",
      "polling\n",
      "polling\n",
      "generating VO\n",
      "{'video_found': True, 'audio_found': False, 'metadata': {'major_brand': 'isom', 'minor_version': '512', 'compatible_brands': 'isomiso2avc1mp41', 'encoder': 'Lavf58.29.100'}, 'inputs': [{'streams': [{'input_number': 0, 'stream_number': 0, 'stream_type': 'video', 'language': None, 'default': True, 'size': [1280, 768], 'bitrate': 3221, 'fps': 24.0, 'codec_name': 'h264', 'profile': '(High)', 'metadata': {'Metadata': '', 'handler_name': 'VideoHandler', 'vendor_id': '[0][0][0][0]'}}], 'input_number': 0}], 'duration': 10.54, 'bitrate': 3235, 'start': 0.0, 'default_video_input_number': 0, 'default_video_stream_number': 0, 'video_codec_name': 'h264', 'video_profile': '(High)', 'video_size': [1280, 768], 'video_bitrate': 3221, 'video_fps': 24.0, 'video_duration': 10.54, 'video_n_frames': 252}\n",
      "/home/zeus/miniconda3/envs/cloudspace/lib/python3.10/site-packages/imageio_ffmpeg/binaries/ffmpeg-linux-x86_64-v7.0.2 -i out_vids/static cam_img2video.mp4 -loglevel error -f image2pipe -vf scale=1280:768 -sws_flags bicubic -pix_fmt rgb24 -vcodec rawvideo -\n",
      "MoviePy - Building video combined_assets/scene_0005_variation_0000.mp4.\n",
      "MoviePy - Writing audio in scene_0005_variation_0000TEMP_MPY_wvf_snd.mp4\n",
      "MoviePy - Done.                                                                 \n",
      "MoviePy - Writing video combined_assets/scene_0005_variation_0000.mp4\n",
      "\n",
      "MoviePy - Done !                                                                \n",
      "MoviePy - video ready combined_assets/scene_0005_variation_0000.mp4\n",
      "editing everything together\n",
      "{'video_found': True, 'audio_found': True, 'metadata': {'major_brand': 'isom', 'minor_version': '512', 'compatible_brands': 'isomiso2avc1mp41', 'encoder': 'Lavf61.1.100'}, 'inputs': [{'streams': [{'input_number': 0, 'stream_number': 0, 'stream_type': 'video', 'language': None, 'default': True, 'size': [1280, 768], 'bitrate': 1279, 'fps': 24.0, 'codec_name': 'h264', 'profile': '(High)', 'metadata': {'Metadata': '', 'handler_name': 'VideoHandler', 'vendor_id': '[0][0][0][0]', 'encoder': 'Lavc61.3.100 libx264'}}, {'input_number': 0, 'stream_number': 1, 'stream_type': 'audio', 'language': None, 'default': True, 'fps': 44100, 'bitrate': 127, 'metadata': {'Metadata': '', 'handler_name': 'SoundHandler', 'vendor_id': '[0][0][0][0]'}}], 'input_number': 0}], 'duration': 9.22, 'bitrate': 1412, 'start': 0.0, 'default_video_input_number': 0, 'default_video_stream_number': 0, 'video_codec_name': 'h264', 'video_profile': '(High)', 'video_size': [1280, 768], 'video_bitrate': 1279, 'video_fps': 24.0, 'default_audio_input_number': 0, 'default_audio_stream_number': 1, 'audio_fps': 44100, 'audio_bitrate': 127, 'video_duration': 9.22, 'video_n_frames': 221}\n",
      "/home/zeus/miniconda3/envs/cloudspace/lib/python3.10/site-packages/imageio_ffmpeg/binaries/ffmpeg-linux-x86_64-v7.0.2 -i combined_assets/scene_0000_variation_0000.mp4 -loglevel error -f image2pipe -vf scale=1280:768 -sws_flags bicubic -pix_fmt rgb24 -vcodec rawvideo -\n",
      "{'video_found': True, 'audio_found': True, 'metadata': {'major_brand': 'isom', 'minor_version': '512', 'compatible_brands': 'isomiso2avc1mp41', 'encoder': 'Lavf61.1.100'}, 'inputs': [{'streams': [{'input_number': 0, 'stream_number': 0, 'stream_type': 'video', 'language': None, 'default': True, 'size': [1280, 768], 'bitrate': 1892, 'fps': 24.0, 'codec_name': 'h264', 'profile': '(High)', 'metadata': {'Metadata': '', 'handler_name': 'VideoHandler', 'vendor_id': '[0][0][0][0]', 'encoder': 'Lavc61.3.100 libx264'}}, {'input_number': 0, 'stream_number': 1, 'stream_type': 'audio', 'language': None, 'default': True, 'fps': 44100, 'bitrate': 126, 'metadata': {'Metadata': '', 'handler_name': 'SoundHandler', 'vendor_id': '[0][0][0][0]'}}], 'input_number': 0}], 'duration': 7.18, 'bitrate': 2024, 'start': 0.0, 'default_video_input_number': 0, 'default_video_stream_number': 0, 'video_codec_name': 'h264', 'video_profile': '(High)', 'video_size': [1280, 768], 'video_bitrate': 1892, 'video_fps': 24.0, 'default_audio_input_number': 0, 'default_audio_stream_number': 1, 'audio_fps': 44100, 'audio_bitrate': 126, 'video_duration': 7.18, 'video_n_frames': 172}\n",
      "/home/zeus/miniconda3/envs/cloudspace/lib/python3.10/site-packages/imageio_ffmpeg/binaries/ffmpeg-linux-x86_64-v7.0.2 -i combined_assets/scene_0001_variation_0000.mp4 -loglevel error -f image2pipe -vf scale=1280:768 -sws_flags bicubic -pix_fmt rgb24 -vcodec rawvideo -\n",
      "{'video_found': True, 'audio_found': True, 'metadata': {'major_brand': 'isom', 'minor_version': '512', 'compatible_brands': 'isomiso2avc1mp41', 'encoder': 'Lavf61.1.100'}, 'inputs': [{'streams': [{'input_number': 0, 'stream_number': 0, 'stream_type': 'video', 'language': None, 'default': True, 'size': [1280, 768], 'bitrate': 1629, 'fps': 24.0, 'codec_name': 'h264', 'profile': '(High)', 'metadata': {'Metadata': '', 'handler_name': 'VideoHandler', 'vendor_id': '[0][0][0][0]', 'encoder': 'Lavc61.3.100 libx264'}}, {'input_number': 0, 'stream_number': 1, 'stream_type': 'audio', 'language': None, 'default': True, 'fps': 44100, 'bitrate': 127, 'metadata': {'Metadata': '', 'handler_name': 'SoundHandler', 'vendor_id': '[0][0][0][0]'}}], 'input_number': 0}], 'duration': 6.53, 'bitrate': 1758, 'start': 0.0, 'default_video_input_number': 0, 'default_video_stream_number': 0, 'video_codec_name': 'h264', 'video_profile': '(High)', 'video_size': [1280, 768], 'video_bitrate': 1629, 'video_fps': 24.0, 'default_audio_input_number': 0, 'default_audio_stream_number': 1, 'audio_fps': 44100, 'audio_bitrate': 127, 'video_duration': 6.53, 'video_n_frames': 156}\n",
      "/home/zeus/miniconda3/envs/cloudspace/lib/python3.10/site-packages/imageio_ffmpeg/binaries/ffmpeg-linux-x86_64-v7.0.2 -i combined_assets/scene_0002_variation_0000.mp4 -loglevel error -f image2pipe -vf scale=1280:768 -sws_flags bicubic -pix_fmt rgb24 -vcodec rawvideo -\n",
      "{'video_found': True, 'audio_found': True, 'metadata': {'major_brand': 'isom', 'minor_version': '512', 'compatible_brands': 'isomiso2avc1mp41', 'encoder': 'Lavf61.1.100'}, 'inputs': [{'streams': [{'input_number': 0, 'stream_number': 0, 'stream_type': 'video', 'language': None, 'default': True, 'size': [1280, 768], 'bitrate': 1244, 'fps': 24.0, 'codec_name': 'h264', 'profile': '(High)', 'metadata': {'Metadata': '', 'handler_name': 'VideoHandler', 'vendor_id': '[0][0][0][0]', 'encoder': 'Lavc61.3.100 libx264'}}, {'input_number': 0, 'stream_number': 1, 'stream_type': 'audio', 'language': None, 'default': True, 'fps': 44100, 'bitrate': 126, 'metadata': {'Metadata': '', 'handler_name': 'SoundHandler', 'vendor_id': '[0][0][0][0]'}}], 'input_number': 0}], 'duration': 8.12, 'bitrate': 1373, 'start': 0.0, 'default_video_input_number': 0, 'default_video_stream_number': 0, 'video_codec_name': 'h264', 'video_profile': '(High)', 'video_size': [1280, 768], 'video_bitrate': 1244, 'video_fps': 24.0, 'default_audio_input_number': 0, 'default_audio_stream_number': 1, 'audio_fps': 44100, 'audio_bitrate': 126, 'video_duration': 8.12, 'video_n_frames': 194}\n",
      "/home/zeus/miniconda3/envs/cloudspace/lib/python3.10/site-packages/imageio_ffmpeg/binaries/ffmpeg-linux-x86_64-v7.0.2 -i combined_assets/scene_0003_variation_0000.mp4 -loglevel error -f image2pipe -vf scale=1280:768 -sws_flags bicubic -pix_fmt rgb24 -vcodec rawvideo -\n",
      "{'video_found': True, 'audio_found': True, 'metadata': {'major_brand': 'isom', 'minor_version': '512', 'compatible_brands': 'isomiso2avc1mp41', 'encoder': 'Lavf61.1.100'}, 'inputs': [{'streams': [{'input_number': 0, 'stream_number': 0, 'stream_type': 'video', 'language': None, 'default': True, 'size': [1280, 768], 'bitrate': 1707, 'fps': 24.0, 'codec_name': 'h264', 'profile': '(High)', 'metadata': {'Metadata': '', 'handler_name': 'VideoHandler', 'vendor_id': '[0][0][0][0]', 'encoder': 'Lavc61.3.100 libx264'}}, {'input_number': 0, 'stream_number': 1, 'stream_type': 'audio', 'language': None, 'default': True, 'fps': 44100, 'bitrate': 127, 'metadata': {'Metadata': '', 'handler_name': 'SoundHandler', 'vendor_id': '[0][0][0][0]'}}], 'input_number': 0}], 'duration': 7.0, 'bitrate': 1842, 'start': 0.0, 'default_video_input_number': 0, 'default_video_stream_number': 0, 'video_codec_name': 'h264', 'video_profile': '(High)', 'video_size': [1280, 768], 'video_bitrate': 1707, 'video_fps': 24.0, 'default_audio_input_number': 0, 'default_audio_stream_number': 1, 'audio_fps': 44100, 'audio_bitrate': 127, 'video_duration': 7.0, 'video_n_frames': 168}\n",
      "/home/zeus/miniconda3/envs/cloudspace/lib/python3.10/site-packages/imageio_ffmpeg/binaries/ffmpeg-linux-x86_64-v7.0.2 -i combined_assets/scene_0004_variation_0000.mp4 -loglevel error -f image2pipe -vf scale=1280:768 -sws_flags bicubic -pix_fmt rgb24 -vcodec rawvideo -\n",
      "{'video_found': True, 'audio_found': True, 'metadata': {'major_brand': 'isom', 'minor_version': '512', 'compatible_brands': 'isomiso2avc1mp41', 'encoder': 'Lavf61.1.100'}, 'inputs': [{'streams': [{'input_number': 0, 'stream_number': 0, 'stream_type': 'video', 'language': None, 'default': True, 'size': [1280, 768], 'bitrate': 1612, 'fps': 24.0, 'codec_name': 'h264', 'profile': '(High)', 'metadata': {'Metadata': '', 'handler_name': 'VideoHandler', 'vendor_id': '[0][0][0][0]', 'encoder': 'Lavc61.3.100 libx264'}}, {'input_number': 0, 'stream_number': 1, 'stream_type': 'audio', 'language': None, 'default': True, 'fps': 44100, 'bitrate': 126, 'metadata': {'Metadata': '', 'handler_name': 'SoundHandler', 'vendor_id': '[0][0][0][0]'}}], 'input_number': 0}], 'duration': 8.18, 'bitrate': 1745, 'start': 0.0, 'default_video_input_number': 0, 'default_video_stream_number': 0, 'video_codec_name': 'h264', 'video_profile': '(High)', 'video_size': [1280, 768], 'video_bitrate': 1612, 'video_fps': 24.0, 'default_audio_input_number': 0, 'default_audio_stream_number': 1, 'audio_fps': 44100, 'audio_bitrate': 126, 'video_duration': 8.18, 'video_n_frames': 196}\n",
      "/home/zeus/miniconda3/envs/cloudspace/lib/python3.10/site-packages/imageio_ffmpeg/binaries/ffmpeg-linux-x86_64-v7.0.2 -i combined_assets/scene_0005_variation_0000.mp4 -loglevel error -f image2pipe -vf scale=1280:768 -sws_flags bicubic -pix_fmt rgb24 -vcodec rawvideo -\n",
      "MoviePy - Building video final_vids/final_video_variation_0000.mp4.\n",
      "MoviePy - Writing audio in final_video_variation_0000TEMP_MPY_wvf_snd.mp4\n",
      "MoviePy - Done.                                                                 \n",
      "MoviePy - Writing video final_vids/final_video_variation_0000.mp4\n",
      "\n",
      "frame_index:  18%|██▉             | 203/1109 [00:01<00:05, 178.54it/s, now=None]/home/zeus/miniconda3/envs/cloudspace/lib/python3.10/site-packages/moviepy/video/io/ffmpeg_reader.py:178: UserWarning: In file combined_assets/scene_0000_variation_0000.mp4, 2949120 bytes wanted but 0 bytes read at frame index 221 (out of a total 221 frames), at time 9.21/9.22 sec. Using the last valid frame instead.\n",
      "  warnings.warn(\n",
      "frame_index:  48%|███████▋        | 533/1109 [00:03<00:03, 178.97it/s, now=None]/home/zeus/miniconda3/envs/cloudspace/lib/python3.10/site-packages/moviepy/video/io/ffmpeg_reader.py:178: UserWarning: In file combined_assets/scene_0002_variation_0000.mp4, 2949120 bytes wanted but 0 bytes read at frame index 156 (out of a total 156 frames), at time 6.50/6.53 sec. Using the last valid frame instead.\n",
      "  warnings.warn(\n",
      "frame_index:  67%|██████████▋     | 745/1109 [00:04<00:02, 179.29it/s, now=None]/home/zeus/miniconda3/envs/cloudspace/lib/python3.10/site-packages/moviepy/video/io/ffmpeg_reader.py:178: UserWarning: In file combined_assets/scene_0003_variation_0000.mp4, 2949120 bytes wanted but 0 bytes read at frame index 194 (out of a total 194 frames), at time 8.08/8.12 sec. Using the last valid frame instead.\n",
      "  warnings.warn(\n",
      "MoviePy - Done !                                                                \n",
      "MoviePy - video ready final_vids/final_video_variation_0000.mp4\n"
     ]
    }
   ],
   "source": [
    "!python full_agentic_flow.py --iterations 1 --scenario_file_path \"config_files/scenario.yaml\" --narrative \"Taylor learns about blockchain\""
   ]
  }
 ],
 "metadata": {
  "colab": {
   "machine_shape": "hm",
   "private_outputs": true,
   "provenance": []
  },
  "kernelspec": {
   "display_name": "Python 3",
   "language": "python",
   "name": "python3"
  },
  "language_info": {
   "codemirror_mode": {
    "name": "ipython",
    "version": 3
   },
   "file_extension": ".py",
   "mimetype": "text/x-python",
   "name": "python",
   "nbconvert_exporter": "python",
   "pygments_lexer": "ipython3",
   "version": "3.10.10"
  }
 },
 "nbformat": 4,
 "nbformat_minor": 4
}
